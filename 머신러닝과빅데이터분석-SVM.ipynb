{
 "cells": [
  {
   "cell_type": "code",
   "execution_count": 1,
   "metadata": {},
   "outputs": [],
   "source": [
    "import pandas as pd\n",
    "pd.set_option('display.max_rows',None)\n",
    "pd.set_option('display.max_columns',None)\n",
    "\n",
    "pd_DataSet=pd.read_csv(\"./SVM_Sample.csv\")"
   ]
  },
  {
   "cell_type": "code",
   "execution_count": 2,
   "metadata": {},
   "outputs": [
    {
     "name": "stdout",
     "output_type": "stream",
     "text": [
      "     SEQ   X1   X2   X3   X4      Y1\n",
      "0      1  5.1  3.5  1.4  0.2  GroupA\n",
      "1      2  4.9  3.0  1.4  0.2  GroupA\n",
      "2      3  4.7  3.2  1.3  0.2  GroupA\n",
      "3      4  4.6  3.1  1.5  0.2  GroupA\n",
      "4      5  5.0  3.6  1.4  0.2  GroupA\n",
      "5      6  5.4  3.9  1.7  0.4  GroupA\n",
      "6      7  4.6  3.4  1.4  0.3  GroupA\n",
      "7      8  5.0  3.4  1.5  0.2  GroupA\n",
      "8      9  4.4  2.9  1.4  0.2  GroupA\n",
      "9     10  4.9  3.1  1.5  0.1  GroupA\n",
      "10    11  5.4  3.7  1.5  0.2  GroupA\n",
      "11    12  4.8  3.4  1.6  0.2  GroupA\n",
      "12    13  4.8  3.0  1.4  0.1  GroupA\n",
      "13    14  4.3  3.0  1.1  0.1  GroupA\n",
      "14    15  5.8  4.0  1.2  0.2  GroupA\n",
      "15    16  5.7  4.4  1.5  0.4  GroupA\n",
      "16    17  5.4  3.9  1.3  0.4  GroupA\n",
      "17    18  5.1  3.5  1.4  0.3  GroupA\n",
      "18    19  5.7  3.8  1.7  0.3  GroupA\n",
      "19    20  5.1  3.8  1.5  0.3  GroupA\n",
      "20    21  5.4  3.4  1.7  0.2  GroupA\n",
      "21    22  5.1  3.7  1.5  0.4  GroupA\n",
      "22    23  4.6  3.6  1.0  0.2  GroupA\n",
      "23    24  5.1  3.3  1.7  0.5  GroupA\n",
      "24    25  4.8  3.4  1.9  0.2  GroupA\n",
      "25    26  5.0  3.0  1.6  0.2  GroupA\n",
      "26    27  5.0  3.4  1.6  0.4  GroupA\n",
      "27    28  5.2  3.5  1.5  0.2  GroupA\n",
      "28    29  5.2  3.4  1.4  0.2  GroupA\n",
      "29    30  4.7  3.2  1.6  0.2  GroupA\n",
      "30    31  4.8  3.1  1.6  0.2  GroupA\n",
      "31    32  5.4  3.4  1.5  0.4  GroupA\n",
      "32    33  5.2  4.1  1.5  0.1  GroupA\n",
      "33    34  5.5  4.2  1.4  0.2  GroupA\n",
      "34    35  4.9  3.1  1.5  0.2  GroupA\n",
      "35    36  5.0  3.2  1.2  0.2  GroupA\n",
      "36    37  5.5  3.5  1.3  0.2  GroupA\n",
      "37    38  4.9  3.6  1.4  0.1  GroupA\n",
      "38    39  4.4  3.0  1.3  0.2  GroupA\n",
      "39    40  5.1  3.4  1.5  0.2  GroupA\n",
      "40    41  5.0  3.5  1.3  0.3  GroupA\n",
      "41    42  4.5  2.3  1.3  0.3  GroupA\n",
      "42    43  4.4  3.2  1.3  0.2  GroupA\n",
      "43    44  5.0  3.5  1.6  0.6  GroupA\n",
      "44    45  5.1  3.8  1.9  0.4  GroupA\n",
      "45    46  4.8  3.0  1.4  0.3  GroupA\n",
      "46    47  5.1  3.8  1.6  0.2  GroupA\n",
      "47    48  4.6  3.2  1.4  0.2  GroupA\n",
      "48    49  5.3  3.7  1.5  0.2  GroupA\n",
      "49    50  5.0  3.3  1.4  0.2  GroupA\n",
      "50    51  7.0  3.2  4.7  1.4  GroupB\n",
      "51    52  6.4  3.2  4.5  1.5  GroupB\n",
      "52    53  6.9  3.1  4.9  1.5  GroupB\n",
      "53    54  5.5  2.3  4.0  1.3  GroupB\n",
      "54    55  6.5  2.8  4.6  1.5  GroupB\n",
      "55    56  5.7  2.8  4.5  1.3  GroupB\n",
      "56    57  6.3  3.3  4.7  1.6  GroupB\n",
      "57    58  4.9  2.4  3.3  1.0  GroupB\n",
      "58    59  6.6  2.9  4.6  1.3  GroupB\n",
      "59    60  5.2  2.7  3.9  1.4  GroupB\n",
      "60    61  5.0  2.0  3.5  1.0  GroupB\n",
      "61    62  5.9  3.0  4.2  1.5  GroupB\n",
      "62    63  6.0  2.2  4.0  1.0  GroupB\n",
      "63    64  6.1  2.9  4.7  1.4  GroupB\n",
      "64    65  5.6  2.9  3.6  1.3  GroupB\n",
      "65    66  6.7  3.1  4.4  1.4  GroupB\n",
      "66    67  5.6  3.0  4.5  1.5  GroupB\n",
      "67    68  5.8  2.7  4.1  1.0  GroupB\n",
      "68    69  6.2  2.2  4.5  1.5  GroupB\n",
      "69    70  5.6  2.5  3.9  1.1  GroupB\n",
      "70    71  5.9  3.2  4.8  1.8  GroupB\n",
      "71    72  6.1  2.8  4.0  1.3  GroupB\n",
      "72    73  6.3  2.5  4.9  1.5  GroupB\n",
      "73    74  6.1  2.8  4.7  1.2  GroupB\n",
      "74    75  6.4  2.9  4.3  1.3  GroupB\n",
      "75    76  6.6  3.0  4.4  1.4  GroupB\n",
      "76    77  6.8  2.8  4.8  1.4  GroupB\n",
      "77    78  6.7  3.0  5.0  1.7  GroupB\n",
      "78    79  6.0  2.9  4.5  1.5  GroupB\n",
      "79    80  5.7  2.6  3.5  1.0  GroupB\n",
      "80    81  5.5  2.4  3.8  1.1  GroupB\n",
      "81    82  5.5  2.4  3.7  1.0  GroupB\n",
      "82    83  5.8  2.7  3.9  1.2  GroupB\n",
      "83    84  6.0  2.7  5.1  1.6  GroupB\n",
      "84    85  5.4  3.0  4.5  1.5  GroupB\n",
      "85    86  6.0  3.4  4.5  1.6  GroupB\n",
      "86    87  6.7  3.1  4.7  1.5  GroupB\n",
      "87    88  6.3  2.3  4.4  1.3  GroupB\n",
      "88    89  5.6  3.0  4.1  1.3  GroupB\n",
      "89    90  5.5  2.5  4.0  1.3  GroupB\n",
      "90    91  5.5  2.6  4.4  1.2  GroupB\n",
      "91    92  6.1  3.0  4.6  1.4  GroupB\n",
      "92    93  5.8  2.6  4.0  1.2  GroupB\n",
      "93    94  5.0  2.3  3.3  1.0  GroupB\n",
      "94    95  5.6  2.7  4.2  1.3  GroupB\n",
      "95    96  5.7  3.0  4.2  1.2  GroupB\n",
      "96    97  5.7  2.9  4.2  1.3  GroupB\n",
      "97    98  6.2  2.9  4.3  1.3  GroupB\n",
      "98    99  5.1  2.5  3.0  1.1  GroupB\n",
      "99   100  5.7  2.8  4.1  1.3  GroupB\n",
      "100  101  6.3  3.3  6.0  2.5  GroupC\n",
      "101  102  5.8  2.7  5.1  1.9  GroupC\n",
      "102  103  7.1  3.0  5.9  2.1  GroupC\n",
      "103  104  6.3  2.9  5.6  1.8  GroupC\n",
      "104  105  6.5  3.0  5.8  2.2  GroupC\n",
      "105  106  7.6  3.0  6.6  2.1  GroupC\n",
      "106  107  4.9  2.5  4.5  1.7  GroupC\n",
      "107  108  7.3  2.9  6.3  1.8  GroupC\n",
      "108  109  6.7  2.5  5.8  1.8  GroupC\n",
      "109  110  7.2  3.6  6.1  2.5  GroupC\n",
      "110  111  6.5  3.2  5.1  2.0  GroupC\n",
      "111  112  6.4  2.7  5.3  1.9  GroupC\n",
      "112  113  6.8  3.0  5.5  2.1  GroupC\n",
      "113  114  5.7  2.5  5.0  2.0  GroupC\n",
      "114  115  5.8  2.8  5.1  2.4  GroupC\n",
      "115  116  6.4  3.2  5.3  2.3  GroupC\n",
      "116  117  6.5  3.0  5.5  1.8  GroupC\n",
      "117  118  7.7  3.8  6.7  2.2  GroupC\n",
      "118  119  7.7  2.6  6.9  2.3  GroupC\n",
      "119  120  6.0  2.2  5.0  1.5  GroupC\n",
      "120  121  6.9  3.2  5.7  2.3  GroupC\n",
      "121  122  5.6  2.8  4.9  2.0  GroupC\n",
      "122  123  7.7  2.8  6.7  2.0  GroupC\n",
      "123  124  6.3  2.7  4.9  1.8  GroupC\n",
      "124  125  6.7  3.3  5.7  2.1  GroupC\n",
      "125  126  7.2  3.2  6.0  1.8  GroupC\n",
      "126  127  6.2  2.8  4.8  1.8  GroupC\n",
      "127  128  6.1  3.0  4.9  1.8  GroupC\n",
      "128  129  6.4  2.8  5.6  2.1  GroupC\n",
      "129  130  7.2  3.0  5.8  1.6  GroupC\n",
      "130  131  7.4  2.8  6.1  1.9  GroupC\n",
      "131  132  7.9  3.8  6.4  2.0  GroupC\n",
      "132  133  6.4  2.8  5.6  2.2  GroupC\n",
      "133  134  6.3  2.8  5.1  1.5  GroupC\n",
      "134  135  6.1  2.6  5.6  1.4  GroupC\n",
      "135  136  7.7  3.0  6.1  2.3  GroupC\n",
      "136  137  6.3  3.4  5.6  2.4  GroupC\n",
      "137  138  6.4  3.1  5.5  1.8  GroupC\n",
      "138  139  6.0  3.0  4.8  1.8  GroupC\n",
      "139  140  6.9  3.1  5.4  2.1  GroupC\n",
      "140  141  6.7  3.1  5.6  2.4  GroupC\n",
      "141  142  6.9  3.1  5.1  2.3  GroupC\n",
      "142  143  5.8  2.7  5.1  1.9  GroupC\n",
      "143  144  6.8  3.2  5.9  2.3  GroupC\n",
      "144  145  6.7  3.3  5.7  2.5  GroupC\n",
      "145  146  6.7  3.0  5.2  2.3  GroupC\n",
      "146  147  6.3  2.5  5.0  1.9  GroupC\n",
      "147  148  6.5  3.0  5.2  2.0  GroupC\n",
      "148  149  6.2  3.4  5.4  2.3  GroupC\n",
      "149  150  5.9  3.0  5.1  1.8  GroupC\n"
     ]
    }
   ],
   "source": [
    "DF=pd.DataFrame(pd_DataSet)\n",
    "New_DF=DF.dropna(how='any')\n",
    "print(New_DF)"
   ]
  },
  {
   "cell_type": "code",
   "execution_count": 3,
   "metadata": {},
   "outputs": [],
   "source": [
    "import sklearn.model_selection as sms\n",
    "x=New_DF[['X1','X2']]\n",
    "y=New_DF['Y1']"
   ]
  },
  {
   "cell_type": "code",
   "execution_count": 4,
   "metadata": {},
   "outputs": [],
   "source": [
    "x_train,x_test,y_train,y_test=sms.train_test_split(x,y,train_size=0.8,test_size=0.2)"
   ]
  },
  {
   "cell_type": "code",
   "execution_count": 5,
   "metadata": {},
   "outputs": [],
   "source": [
    "import sklearn.svm as skv"
   ]
  },
  {
   "cell_type": "code",
   "execution_count": 8,
   "metadata": {},
   "outputs": [
    {
     "name": "stdout",
     "output_type": "stream",
     "text": [
      "SVM-Train_score: 0.8166666666666667 ,Test_score: 0.8333333333333334\n"
     ]
    }
   ],
   "source": [
    "SVM_Model=skv.SVC(kernel='linear',C=1)\n",
    "#C는 모델 구현시 발생되는 오류를 얼마나 수용할 것인지 결정하는 인지\n",
    "#모델을 구현하고 정확도를 확인하며 C 값을 조절하고 정확도를 높혀주는 것\n",
    "#기본이 1\n",
    "#kernel 은 분류모델을 결정하는 인자 linear : 선형 모델\n",
    "#다항식(polynomial커널: 2차원에서 3차원으로 표현)\n",
    "#RBF(기본값): 가우시안 커널 : 2차원의 점을 무한한 차원의 점으로 변환 \n",
    "\n",
    "SVM_Model.fit(x_train,y_train)\n",
    "Train_score=SVM_Model.score(x_train,y_train)\n",
    "Test_score=SVM_Model.score(x_test,y_test)\n",
    "\n",
    "print('SVM-Train_score:',Train_score,',Test_score:',Test_score)"
   ]
  },
  {
   "cell_type": "code",
   "execution_count": 9,
   "metadata": {},
   "outputs": [
    {
     "name": "stdout",
     "output_type": "stream",
     "text": [
      "['GroupC']\n"
     ]
    },
    {
     "name": "stderr",
     "output_type": "stream",
     "text": [
      "c:\\Users\\minjung.bae\\AppData\\Local\\Programs\\Python\\Python38\\lib\\site-packages\\sklearn\\base.py:439: UserWarning: X does not have valid feature names, but SVC was fitted with feature names\n",
      "  warnings.warn(\n"
     ]
    }
   ],
   "source": [
    "#SVM 예측\n",
    "Pre_Parm=[[260,260]]\n",
    "predict_R=SVM_Model.predict(Pre_Parm)"
   ]
  },
  {
   "cell_type": "code",
   "execution_count": 10,
   "metadata": {},
   "outputs": [
    {
     "name": "stdout",
     "output_type": "stream",
     "text": [
      "['GroupC']\n"
     ]
    }
   ],
   "source": [
    "print(predict_R)"
   ]
  },
  {
   "cell_type": "code",
   "execution_count": 11,
   "metadata": {},
   "outputs": [],
   "source": [
    "Pre_DataSet=pd.read_csv(\"./Prediction_Scenario.csv\")"
   ]
  },
  {
   "cell_type": "code",
   "execution_count": 12,
   "metadata": {},
   "outputs": [],
   "source": [
    "Pre_DF=pd.DataFrame(Pre_DataSet)"
   ]
  },
  {
   "cell_type": "code",
   "execution_count": 13,
   "metadata": {},
   "outputs": [],
   "source": [
    "Pre_S_Parm=Pre_DF[['X1','X2']]\n",
    "predict_sR=SVM_Model.predict(Pre_S_Parm)"
   ]
  },
  {
   "cell_type": "code",
   "execution_count": 14,
   "metadata": {},
   "outputs": [
    {
     "name": "stdout",
     "output_type": "stream",
     "text": [
      "['GroupC' 'GroupC' 'GroupC' 'GroupA' 'GroupC' 'GroupC' 'GroupC' 'GroupC'\n",
      " 'GroupC' 'GroupC' 'GroupA' 'GroupA' 'GroupA' 'GroupC' 'GroupC' 'GroupC'\n",
      " 'GroupC' 'GroupC' 'GroupC' 'GroupC' 'GroupC' 'GroupC' 'GroupC' 'GroupC'\n",
      " 'GroupC' 'GroupC' 'GroupA' 'GroupA' 'GroupC' 'GroupC' 'GroupC' 'GroupC'\n",
      " 'GroupC' 'GroupA' 'GroupC' 'GroupA' 'GroupC' 'GroupA' 'GroupA' 'GroupC'\n",
      " 'GroupC' 'GroupC' 'GroupA' 'GroupC' 'GroupC' 'GroupC' 'GroupC' 'GroupC'\n",
      " 'GroupA' 'GroupC' 'GroupA' 'GroupC' 'GroupA' 'GroupC' 'GroupC' 'GroupC'\n",
      " 'GroupC' 'GroupC' 'GroupA' 'GroupA' 'GroupC' 'GroupC' 'GroupA' 'GroupC'\n",
      " 'GroupC' 'GroupA' 'GroupC' 'GroupA' 'GroupC' 'GroupC' 'GroupC' 'GroupA'\n",
      " 'GroupC' 'GroupC' 'GroupC' 'GroupC' 'GroupA' 'GroupA' 'GroupC' 'GroupA'\n",
      " 'GroupC' 'GroupA' 'GroupA' 'GroupC' 'GroupA' 'GroupC' 'GroupA' 'GroupA'\n",
      " 'GroupC' 'GroupC' 'GroupC' 'GroupC' 'GroupC' 'GroupA' 'GroupA' 'GroupA'\n",
      " 'GroupA' 'GroupA' 'GroupA' 'GroupC']\n"
     ]
    }
   ],
   "source": [
    "print(predict_sR)"
   ]
  }
 ],
 "metadata": {
  "kernelspec": {
   "display_name": "Python 3.8.10 64-bit",
   "language": "python",
   "name": "python3"
  },
  "language_info": {
   "codemirror_mode": {
    "name": "ipython",
    "version": 3
   },
   "file_extension": ".py",
   "mimetype": "text/x-python",
   "name": "python",
   "nbconvert_exporter": "python",
   "pygments_lexer": "ipython3",
   "version": "3.8.10"
  },
  "orig_nbformat": 4,
  "vscode": {
   "interpreter": {
    "hash": "1fc257ea5faeedfc8f4cc290fec0a25852b160e5368d8e6c5b0521ae5a65aee5"
   }
  }
 },
 "nbformat": 4,
 "nbformat_minor": 2
}
