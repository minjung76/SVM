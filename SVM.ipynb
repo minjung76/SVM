{
 "cells": [
  {
   "cell_type": "code",
   "execution_count": 1,
   "metadata": {},
   "outputs": [],
   "source": [
    "from sklearn.datasets import load_breast_cancer \n",
    "cancer=load_breast_cancer()"
   ]
  },
  {
   "cell_type": "code",
   "execution_count": 2,
   "metadata": {},
   "outputs": [],
   "source": [
    "from sklearn.model_selection import train_test_split\n",
    "X_train, X_test, y_train, y_test = train_test_split(cancer.data, cancer.target,\n",
    "                                                    stratify=cancer.target, \n",
    "                                                    random_state=1)"
   ]
  },
  {
   "cell_type": "code",
   "execution_count": 3,
   "metadata": {},
   "outputs": [],
   "source": [
    "from sklearn.preprocessing import MinMaxScaler \n",
    "scaler=MinMaxScaler() "
   ]
  },
  {
   "cell_type": "code",
   "execution_count": 4,
   "metadata": {},
   "outputs": [],
   "source": [
    "from sklearn.svm import SVC\n",
    "\n",
    "base_model = SVC(random_state=1) #rbf 가우시안\n",
    "linear_model = SVC(kernel=\"linear\", random_state=1) \n",
    "poly_model = SVC(kernel=\"poly\", random_state=1)"
   ]
  },
  {
   "cell_type": "code",
   "execution_count": 5,
   "metadata": {},
   "outputs": [],
   "source": [
    "\n",
    "from sklearn.pipeline import Pipeline\n",
    "pipe=Pipeline([('scaler',scaler), ('base_model',poly_model)])"
   ]
  },
  {
   "cell_type": "code",
   "execution_count": 6,
   "metadata": {},
   "outputs": [],
   "source": [
    "from sklearn.model_selection import KFold,GridSearchCV \n",
    "kfold=KFold(n_splits=3, shuffle=True, random_state=1)\n",
    "\n",
    "param_grid={'base_model__C':[0.0001, 0.001, 0.01, 0.1, 1, 10, 100, 1000],\n",
    "            'base_model__gamma':[0.0001, 0.001, 0.01, 0.1, 1, 10, 100, 1000],\n",
    "            'base_model__degree':[1,2,3,4,5]}\n",
    "\n",
    "grid_model=GridSearchCV(estimator=pipe, param_grid=param_grid, cv=kfold, n_jobs=-1).fit(X_train, y_train)"
   ]
  },
  {
   "cell_type": "code",
   "execution_count": 7,
   "metadata": {},
   "outputs": [
    {
     "name": "stdout",
     "output_type": "stream",
     "text": [
      "교차검증 점수 :  0.9788732394366196\n",
      "최적의 하이퍼 파라메터 조합 : {'base_model__C': 0.0001, 'base_model__degree': 2, 'base_model__gamma': 100}\n"
     ]
    }
   ],
   "source": [
    "print('교차검증 점수 : ', grid_model.best_score_) \n",
    "print('최적의 하이퍼 파라메터 조합 :', grid_model.best_params_) \n",
    "\n",
    "#base_model\n",
    "#교차검증 점수 :  0.9765258215962441\n",
    "#최적의 하이퍼 파라메터 조합 : {'base_model__C': 100, 'base_model__degree': 1, 'base_model__gamma': 0.01}\n",
    "\n",
    "#linear\n",
    "#교차검증 점수 :  0.9741784037558686\n",
    "#최적의 하이퍼 파라메터 조합 : {'base_model__C': 10, 'base_model__degree': 1, 'base_model__gamma': 0.0001}\n",
    "\n",
    "#poly\n",
    "#교차검증 점수 :  0.9788732394366196\n",
    "#최적의 하이퍼 파라메터 조합 : {'base_model__C': 0.0001, 'base_model__degree': 2, 'base_model__gamma': 100}\n",
    "\n",
    "#결론 poly 모델이 가장 정확도가 높다. "
   ]
  },
  {
   "cell_type": "code",
   "execution_count": null,
   "metadata": {},
   "outputs": [],
   "source": []
  }
 ],
 "metadata": {
  "kernelspec": {
   "display_name": "Python 3.8.10 64-bit",
   "language": "python",
   "name": "python3"
  },
  "language_info": {
   "codemirror_mode": {
    "name": "ipython",
    "version": 3
   },
   "file_extension": ".py",
   "mimetype": "text/x-python",
   "name": "python",
   "nbconvert_exporter": "python",
   "pygments_lexer": "ipython3",
   "version": "3.8.10"
  },
  "orig_nbformat": 4,
  "vscode": {
   "interpreter": {
    "hash": "1fc257ea5faeedfc8f4cc290fec0a25852b160e5368d8e6c5b0521ae5a65aee5"
   }
  }
 },
 "nbformat": 4,
 "nbformat_minor": 2
}
